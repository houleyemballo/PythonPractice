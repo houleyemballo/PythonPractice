{
 "cells": [
  {
   "cell_type": "markdown",
   "metadata": {},
   "source": [
    "Plus Minus"
   ]
  },
  {
   "cell_type": "code",
   "execution_count": 6,
   "metadata": {},
   "outputs": [
    {
     "name": "stdout",
     "output_type": "stream",
     "text": [
      "0.500000\n",
      "0.333333\n",
      "0.166667\n"
     ]
    }
   ],
   "source": [
    "\n",
    "\n",
    "def plusMinus(arr):\n",
    "    # Write your code here\n",
    "    pos = 0\n",
    "    neg = 0\n",
    "    zero = 0\n",
    "    \n",
    "    for x in arr:\n",
    "        if x > 0:\n",
    "            pos += 1\n",
    "        elif x < 0:\n",
    "            neg += 1\n",
    "        elif x == 0:\n",
    "            zero += 1\n",
    "            \n",
    "    total = pos + neg + zero\n",
    "  \n",
    "    print('{0:.6f}'.format(pos / total))\n",
    "    print('{0:.6f}'.format(neg / total))\n",
    "    print('{0:.6f}'.format(zero / total))\n",
    "    \n",
    "\n",
    "\n",
    "\n",
    "nums = [-4,3,-9,0,4,1]\n",
    "\n",
    "plusMinus(nums)"
   ]
  },
  {
   "cell_type": "code",
   "execution_count": null,
   "metadata": {},
   "outputs": [],
   "source": []
  }
 ],
 "metadata": {
  "kernelspec": {
   "display_name": "Python 3",
   "language": "python",
   "name": "python3"
  },
  "language_info": {
   "codemirror_mode": {
    "name": "ipython",
    "version": 3
   },
   "file_extension": ".py",
   "mimetype": "text/x-python",
   "name": "python",
   "nbconvert_exporter": "python",
   "pygments_lexer": "ipython3",
   "version": "3.8.5"
  }
 },
 "nbformat": 4,
 "nbformat_minor": 4
}
