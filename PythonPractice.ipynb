{
 "cells": [
  {
   "cell_type": "markdown",
   "metadata": {},
   "source": [
    "### Swap first and last elements of a list "
   ]
  },
  {
   "cell_type": "code",
   "execution_count": 1,
   "metadata": {},
   "outputs": [
    {
     "name": "stdout",
     "output_type": "stream",
     "text": [
      "[24, 35, 9, 56, 12]\n"
     ]
    }
   ],
   "source": [
    "# Python3 program to swap first\n",
    "# and last element of a list\n",
    " \n",
    "# Swap function\n",
    "def swapList(newList):\n",
    "    size = len(newList)\n",
    "     \n",
    "    # Swapping\n",
    "    temp = newList[0]\n",
    "    newList[0] = newList[size - 1]\n",
    "    newList[size - 1] = temp\n",
    "     \n",
    "    return newList\n",
    "     \n",
    "# Driver code\n",
    "newList = [12, 35, 9, 56, 24]\n",
    " \n",
    "print(swapList(newList))"
   ]
  },
  {
   "cell_type": "code",
   "execution_count": 2,
   "metadata": {},
   "outputs": [
    {
     "name": "stdout",
     "output_type": "stream",
     "text": [
      "[24, 35, 9, 56, 12]\n"
     ]
    }
   ],
   "source": [
    "# Python3 program to swap first\n",
    "# and last element of a list\n",
    " \n",
    "# Swap function\n",
    "def swapList(newList):\n",
    "     \n",
    "    newList[0], newList[-1] = newList[-1], newList[0]\n",
    " \n",
    "    return newList\n",
    "     \n",
    "# Driver code\n",
    "newList = [12, 35, 9, 56, 24]\n",
    "print(swapList(newList))"
   ]
  },
  {
   "cell_type": "code",
   "execution_count": 3,
   "metadata": {},
   "outputs": [
    {
     "name": "stdout",
     "output_type": "stream",
     "text": [
      "[24, 35, 9, 56, 12]\n"
     ]
    }
   ],
   "source": [
    "# Python3 program to swap first\n",
    "# and last element of a list\n",
    " \n",
    "# Swap function\n",
    "def swapList(list):\n",
    "     \n",
    "    # Storing the first and last element\n",
    "    # as a pair in a tuple variable get\n",
    "    get = list[-1], list[0]\n",
    "     \n",
    "    # unpacking those elements\n",
    "    list[0], list[-1] = get\n",
    "     \n",
    "    return list\n",
    "     \n",
    "# Driver code\n",
    "newList = [12, 35, 9, 56, 24]\n",
    "print(swapList(newList))"
   ]
  },
  {
   "cell_type": "code",
   "execution_count": 4,
   "metadata": {},
   "outputs": [
    {
     "name": "stdout",
     "output_type": "stream",
     "text": [
      "[24, 35, 9, 56, 12]\n"
     ]
    }
   ],
   "source": [
    "# Python3 program to swap first\n",
    "# and last element of a list\n",
    " \n",
    "# Swap function\n",
    "def swapList(list):\n",
    "     \n",
    "    start, *middle, end = list\n",
    "    list = [end, *middle, start]\n",
    "     \n",
    "    return list\n",
    "     \n",
    "# Driver code\n",
    "newList = [12, 35, 9, 56, 24]\n",
    " \n",
    "print(swapList(newList))"
   ]
  },
  {
   "cell_type": "code",
   "execution_count": 5,
   "metadata": {},
   "outputs": [
    {
     "name": "stdout",
     "output_type": "stream",
     "text": [
      "[24, 35, 9, 56, 12]\n"
     ]
    }
   ],
   "source": [
    "# Python3 program to swap first\n",
    "# and last element of a list\n",
    " \n",
    "# Swap function\n",
    "def swapList(list):\n",
    "     \n",
    "    first = list.pop(0)  \n",
    "    last = list.pop(-1)\n",
    "     \n",
    "    list.insert(0, last) \n",
    "    list.append(first)  \n",
    "     \n",
    "    return list\n",
    "     \n",
    "# Driver code\n",
    "newList = [12, 35, 9, 56, 24]\n",
    " \n",
    "print(swapList(newList))"
   ]
  },
  {
   "cell_type": "markdown",
   "metadata": {},
   "source": [
    "### Checking for prime numbers"
   ]
  },
  {
   "cell_type": "code",
   "execution_count": 8,
   "metadata": {},
   "outputs": [
    {
     "name": "stdout",
     "output_type": "stream",
     "text": [
      "2 3 5 7 11 13 17 19 23 29 31 37 41 43 47 53 59 61 67 71 73 79 83 89 97 "
     ]
    }
   ],
   "source": [
    "# Python3 program to display first N Prime numbers\n",
    " \n",
    "#function to check if a given number is prime\n",
    "def isPrime(n):\n",
    "  #since 0 and 1 is not prime return false.\n",
    "  if(n==1 or n==0):\n",
    "    return False\n",
    "   \n",
    "  #Run a loop from 2 to n-1\n",
    "  for i in range(2,n):\n",
    "    #if the number is divisible by i, then n is not a prime number.\n",
    "    if(n%i==0):\n",
    "      return False\n",
    "   \n",
    "  #otherwise, n is prime number.\n",
    "  return True\n",
    " \n",
    " \n",
    " \n",
    "# Driver code\n",
    "N = 100;\n",
    "#check for every number from 1 to N\n",
    "for i in range(1,N+1):\n",
    "  #check if current number is prime\n",
    "  if(isPrime(i)):\n",
    "    print(i,end=\" \")"
   ]
  },
  {
   "cell_type": "code",
   "execution_count": 7,
   "metadata": {},
   "outputs": [
    {
     "name": "stdout",
     "output_type": "stream",
     "text": [
      "2 3 5 7 11 13 17 19 23 29 31 37 41 43 47 53 59 61 67 71 73 79 83 89 97 "
     ]
    }
   ],
   "source": [
    "# Python3 program to display first N Prime numbers\n",
    " \n",
    "#function to check if a given number is prime\n",
    "def isPrime(n):\n",
    "  #since 0 and 1 is not prime return false.\n",
    "  if(n==1 or n==0):\n",
    "    return False\n",
    "   \n",
    "  #Run a loop from 2 to n/2\n",
    "  for i in range(2,(n//2)+1):\n",
    "    #if the number is divisible by i, then n is not a prime number.\n",
    "    if(n%i==0):\n",
    "      return False\n",
    "   \n",
    "  #otherwise, n is prime number.\n",
    "  return True\n",
    " \n",
    " \n",
    " \n",
    "# Driver code\n",
    "N = 100;\n",
    "#check for every number from 1 to N\n",
    "for i in range(1,N+1):\n",
    "  #check if current number is prime\n",
    "  if(isPrime(i)):\n",
    "    print(i,end=\" \")"
   ]
  },
  {
   "cell_type": "code",
   "execution_count": 9,
   "metadata": {},
   "outputs": [
    {
     "name": "stdout",
     "output_type": "stream",
     "text": [
      "2 3 5 7 11 13 17 19 23 29 31 37 41 43 47 53 59 61 67 71 73 79 83 89 97 "
     ]
    }
   ],
   "source": [
    "# Python3 program to display first N Prime numbers\n",
    " \n",
    "#function to check if a given number is prime\n",
    "def isPrime(n):\n",
    "  #since 0 and 1 is not prime return false.\n",
    "  if(n==1 or n==0):\n",
    "    return False\n",
    "   \n",
    "  #Run a loop from 2 to square root of n.\n",
    "  for i in range(2,int(n**(1/2))+1):\n",
    "    #if the number is divisible by i, then n is not a prime number.\n",
    "    if(n%i==0):\n",
    "      return False\n",
    "   \n",
    "  #otherwise, n is prime number.\n",
    "  return True\n",
    " \n",
    " \n",
    " \n",
    "# Driver code\n",
    "N = 100;\n",
    "#check for every number from 1 to N\n",
    "for i in range(1,N+1):\n",
    "  #check if current number is prime\n",
    "  if(isPrime(i)):\n",
    "    print(i,end=\" \")"
   ]
  }
 ],
 "metadata": {
  "kernelspec": {
   "display_name": "Python 3",
   "language": "python",
   "name": "python3"
  },
  "language_info": {
   "codemirror_mode": {
    "name": "ipython",
    "version": 3
   },
   "file_extension": ".py",
   "mimetype": "text/x-python",
   "name": "python",
   "nbconvert_exporter": "python",
   "pygments_lexer": "ipython3",
   "version": "3.8.5"
  }
 },
 "nbformat": 4,
 "nbformat_minor": 4
}
